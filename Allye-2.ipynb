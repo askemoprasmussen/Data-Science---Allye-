{
 "cells": [
  {
   "cell_type": "code",
   "execution_count": null,
   "id": "7515cc14-316e-41e9-84b0-230224a76c04",
   "metadata": {},
   "outputs": [],
   "source": [
    "Aske Mop Rasmussen"
   ]
  },
  {
   "cell_type": "markdown",
   "id": "eacf5a5a-91d6-4d49-bf29-8b420d907e68",
   "metadata": {},
   "source": [
    "## Data Manipulation"
   ]
  },
  {
   "cell_type": "code",
   "execution_count": 171,
   "id": "086f0cdd-d88e-4d39-af52-a7a4c09fda0d",
   "metadata": {},
   "outputs": [],
   "source": [
    "import pandas as pd\n",
    "from sklearn.model_selection import train_test_split\n",
    "from sklearn.neighbors import KNeighborsRegressor\n",
    "from sklearn.metrics import mean_squared_error, r2_score, mean_absolute_error\n",
    "from sklearn.model_selection import cross_val_score\n",
    "import math\n",
    "\n",
    "#Load csv\n",
    "def load_data():\n",
    "    \n",
    "    electricity_demand_data = pd.read_csv('electricity_demand_data.csv')\n",
    "\n",
    "    #Feature Engineering\n",
    "\n",
    "    #Convert DateTime column to pandas DateTime\n",
    "    electricity_demand_data['DateTime'] = pd.to_datetime(electricity_demand_data['DateTime'])\n",
    "\n",
    "    #Extract Date from DateTime Column\n",
    "    electricity_demand_data['Date'] = (electricity_demand_data['DateTime'] - electricity_demand_data['DateTime'].min()).dt.days\n",
    "\n",
    "    #Extract time as hour + minute fraction\n",
    "    electricity_demand_data['Time'] = electricity_demand_data['DateTime'].dt.hour + electricity_demand_data['DateTime'].dt.minute / 60\n",
    "    \n",
    "     # Extract 'DayOfWeek' as the weekday (0 for Monday, 1 for Tuesday ---> 6 for Sunday etc.)\n",
    "    electricity_demand_data['DayOfWeek'] = electricity_demand_data['DateTime'].dt.weekday\n",
    "\n",
    "    # Selecting features X and target Y\n",
    "    X = electricity_demand_data[['Date', 'Time', 'DayOfWeek']]\n",
    "    Y = electricity_demand_data['demand']\n",
    "\n",
    "    return X, Y"
   ]
  },
  {
   "cell_type": "code",
   "execution_count": 172,
   "id": "d66eb605-4ebf-4755-bd6f-d5750e10791a",
   "metadata": {},
   "outputs": [],
   "source": [
    "#Split data into training and test data\n",
    "def split_data(X,Y):\n",
    "    X_train, X_test, Y_train, Y_test = train_test_split(X, Y, random_state=2710)\n",
    "    \n",
    "    #Return split set\n",
    "    return X_train, X_test, Y_train, Y_test"
   ]
  },
  {
   "cell_type": "code",
   "execution_count": 173,
   "id": "af484f5e-992e-47f0-a0cc-a117fbca3715",
   "metadata": {},
   "outputs": [],
   "source": [
    "def plot_data(X,Y):\n",
    "\n",
    "    # Create subplots for each feature against the target\n",
    "    num_features = len(X.columns)\n",
    "    \n",
    "    fig, axes = plt.subplots(nrows=1, ncols=num_features, figsize=(15, 5))\n",
    "    \n",
    "    for i, col in enumerate(X.columns):\n",
    "        axes[i].scatter(X[col], Y, color='blue')\n",
    "        axes[i].set_xlabel(col)\n",
    "        axes[i].set_ylabel('Demand')\n",
    "        axes[i].set_title(f'{col} vs Demand')\n",
    "    \n",
    "    plt.tight_layout()\n",
    "    plt.show()\n"
   ]
  },
  {
   "cell_type": "markdown",
   "id": "8846fada-f096-4b6c-bcef-b9fc94fc5ca6",
   "metadata": {},
   "source": [
    "Upon visualisation of the data as seen in the plot at the bottom, it is clear that we are dealing with non-linear data that lies within a range with a couple of outliers. Therefore, it is crucial to choose a model that performs well with non-linear data.\n"
   ]
  },
  {
   "cell_type": "markdown",
   "id": "80b02bea-a170-4410-8a8b-b15d7d3d5098",
   "metadata": {},
   "source": [
    "### Model Development\n"
   ]
  },
  {
   "cell_type": "markdown",
   "id": "3c2f57e3-7fe2-4805-89ab-2f6630b6b702",
   "metadata": {},
   "source": [
    " Experiments were conducted with three models found appropriate, DecisionTree, KNNRegressor & RandomForestRegressor. All three were found to perform fairly well on test data, but after evaluating error rate and calculating metrics such as R2, MAE & MSE it was decided to proceed with KNNRegressor. Overall KNNRegressor demonstrated higher accuracy and predictability based on the evaluation metrics. Computationally, DecisionTree performed slightly better than KNNRegressor whereas RandomForestRegressor was very slow.\n",
    "\n",
    "KNN when used with continuous data such as 'demand', it is crucial to obtain the number of neighbours where the model performs best. The number of neighbours have an impact on bias and variance. A lower number of neighbours leads to a more flexible model and lower bias but with a higher variance. Finding the optimal K also helps the model generalise better on unseen data."
   ]
  },
  {
   "cell_type": "code",
   "execution_count": 174,
   "id": "c6b02713-b796-4050-af15-1d873dee5ed7",
   "metadata": {},
   "outputs": [],
   "source": [
    "#Find optimal number of neighbours for best performance \n",
    "def find_optimal_neighbours(X_train, Y_train, X_test, Y_test):\n",
    "    min_mse = math.inf\n",
    "    optimal_n = 0\n",
    "    \n",
    "    for n in range(1, 100):\n",
    "        #Initialise Knn regressor\n",
    "        Knn_model = KNeighborsRegressor(n_neighbors=n)\n",
    "        #Fit model to training set\n",
    "        Knn_model.fit(X_train, Y_train)\n",
    "        #Make predicition on test set\n",
    "        predictions = Knn_model.predict(X_test)\n",
    "        #Calculate MSE\n",
    "        mse = mean_squared_error(Y_test, predictions)\n",
    "        \n",
    "        #If MSE improves we update 'optimal_n' with number of neighbours used in model\n",
    "        if mse < min_mse:\n",
    "            min_mse = mse\n",
    "            optimal_n = n\n",
    "\n",
    "    print(f\"Optimal number of neighbours: {optimal_n}\")\n",
    "    return optimal_n"
   ]
  },
  {
   "cell_type": "markdown",
   "id": "b820d87d-d719-40b1-b0ba-e0723fc4fd07",
   "metadata": {},
   "source": [
    "### Model Evaluation"
   ]
  },
  {
   "cell_type": "code",
   "execution_count": 175,
   "id": "aa3ed2f3-045c-41b0-97bc-bde6f8e7a227",
   "metadata": {},
   "outputs": [],
   "source": [
    "#Train model, evaluate on test data, and print evaluation metrics\n",
    "def train_and_evaluate(X_train, Y_train, X_test, Y_test, neighbors):\n",
    "    #Using optimal number of neighbours, initialise KNN regressor\n",
    "    Knn_model = KNeighborsRegressor(n_neighbors=neighbors)\n",
    "    #Fit training set to model\n",
    "    Knn_model.fit(X_train, Y_train)\n",
    "    #Predict on test set\n",
    "    predictions = Knn_model.predict(X_test)\n",
    "    \n",
    "    #Calculate metrics to evaluate performance \n",
    "    mse = mean_squared_error(Y_test, predictions)\n",
    "    r2 = r2_score(Y_test, predictions)\n",
    "    mae = mean_absolute_error(Y_test, predictions)\n",
    "    \n",
    "    print(f\"Mean Squared Error (MSE): {mse}\")\n",
    "    print(f\"R-squared (R2): {r2}\")\n",
    "    print(f\"Mean Absolute Error (MAE): {mae}\")\n",
    "    \n",
    "    return Knn_model"
   ]
  },
  {
   "cell_type": "markdown",
   "id": "5127e87e-a6b5-4e99-bbf7-58913edcad97",
   "metadata": {},
   "source": [
    "Means Squared Error: The average squared difference between predicted values and actual values. A low score indicates that the model is very precise in predicting actual values.\n",
    "\n",
    "R-squared (R2): R2 represents the proportion of variance in the dependent variable (features) that is predictable from the independent variables (features). A high R2 score (close to 1) indicates that the model fits well on the data. \n",
    "\n",
    "Mean Absolute Error (MAE): Provides an interpretation of the average magnitude of errors made by the model. A low score indicates the predicted values are close to the actual values.\n",
    "\n",
    "A solution to increase the performance of the model would be to experiment by removing outliers such as the ones seen in plot at the bottom of the page."
   ]
  },
  {
   "cell_type": "code",
   "execution_count": 176,
   "id": "b8455fbc-f566-4cc4-9f1b-ac85aecd07e2",
   "metadata": {},
   "outputs": [],
   "source": [
    "#Predict future demand\n",
    "def predict_future_demand(model, latest_timestamp, minutes_ahead):\n",
    "    future_timestamp = latest_timestamp + minutes_ahead / (24 * 60)\n",
    "    \n",
    "    #Prepare input for prediction\n",
    "    prediction_input = np.array([[latest_timestamp, future_timestamp]])\n",
    "    \n",
    "    #Make prediction\n",
    "    predicted_demand = model.predict(prediction_input.reshape(-1,3))#Causes a warning\n",
    "    \n",
    "    return predicted_demand[0]"
   ]
  },
  {
   "cell_type": "code",
   "execution_count": 177,
   "id": "f123b4ab-e138-41d1-84ef-0e859270bfc8",
   "metadata": {},
   "outputs": [],
   "source": [
    "#Calculate prediction relative error from predicted to actual\n",
    "def prediction_error_rate(model, X_test, Y_test):\n",
    "    #Make predictions on test set\n",
    "    predictions = model.predict(X_test)\n",
    "    \n",
    "    #Calculate absolute errors between predicted and actual values\n",
    "    absolute_errors = np.abs(predictions - Y_test)\n",
    "    \n",
    "    #Calculate the average error %\n",
    "    mean_absolute_error = np.mean(absolute_errors)\n",
    "    mean_demand = np.mean(Y_test)\n",
    "    error_rate = (mean_absolute_error / mean_demand) * 100\n",
    "    \n",
    "    print(f'Error rate on test data: {error_rate}%')"
   ]
  },
  {
   "cell_type": "code",
   "execution_count": 178,
   "id": "ca6ee2db-6ed2-4f25-b101-fb212a96475f",
   "metadata": {},
   "outputs": [
    {
     "data": {
      "image/png": "[encoded data removed]",
      "text/plain": [
       "<Figure size 1500x500 with 3 Axes>"
      ]
     },
     "metadata": {},
     "output_type": "display_data"
    },
    {
     "name": "stdout",
     "output_type": "stream",
     "text": [
      "Optimal number of neighbours: 2\n",
      "Mean Squared Error (MSE): 0.04281448540368958\n",
      "R-squared (R2): 0.8215853681105554\n",
      "Mean Absolute Error (MAE): 0.07771179763782812\n",
      "Error rate on test data: 25.8262010002177%\n",
      "Predicted demand in the next 15 minutes is 0.0322931258997414\n"
     ]
    },
    {
     "name": "stderr",
     "output_type": "stream",
     "text": [
      "/Library/Frameworks/Python.framework/Versions/3.12/lib/python3.12/site-packages/sklearn/base.py:465: UserWarning: X does not have valid feature names, but KNeighborsRegressor was fitted with feature names\n",
      "  warnings.warn(\n"
     ]
    }
   ],
   "source": [
    "def main():\n",
    "    #Load Data\n",
    "    X, Y = load_data()\n",
    "    #Plot Data\n",
    "    plot_data(X,Y)\n",
    "    \n",
    "    #Split training and test data\n",
    "    X_train, X_test, Y_train, Y_test = split_data(X, Y)\n",
    "    \n",
    "    #Find optimal number of neighbours for model\n",
    "    optimal_neighbours = find_optimal_neighbours(X_train, Y_train, X_test, Y_test)\n",
    "\n",
    "    #Obtain latest timestamp from data\n",
    "    latest_timestamp = X.iloc[-1]  \n",
    "    \n",
    "    #Train and evaluate model\n",
    "    model = train_and_evaluate(X_train, Y_train, X_test, Y_test, optimal_neighbours)\n",
    "    #Calculate prediction error on test set\n",
    "    prediction_error_rate(model, X_test, Y_test)\n",
    "    \n",
    "    #Make prediction for next 15min\n",
    "    predict_15min = predict_future_demand(model, latest_timestamp, 15)\n",
    "    print(f'Predicted demand in the next 15 minutes is {predict_15min}')\n",
    "\n",
    "if __name__ == \"__main__\":\n",
    "    main()"
   ]
  },
  {
   "cell_type": "markdown",
   "id": "ced7441e-aea0-43bb-bd89-25758add7e44",
   "metadata": {},
   "source": [
    "The observed error rate in the model was not a low as anticipated. Initially, the assumption was an underfitting model, yet evaluation metrics such as MSE, R2 & MAE showed satisfactory results. As results were not quite as expected, something else was thought to be influencing the poor performing model.\n",
    "An attempt to improve the performance was to complexify the model by introducing extra features. Time was split into two features, 'Hour' & 'Minutes'. Upon evaluation of the performance metrics, the model had drastically worsened so it was decided to stay with original number of features. To prevent features on a much larger scale from dominating the 'selection' scaling is almost always a necessity. In the contrary, it was found that attempting to scale the features resulted in a deteriorated model.\n",
    "Overall, the model's performance isn't optimal but it still provides a prediction of the demand in the next 15 min. Refining the datasheet further could potentially improve the models performance.\n"
   ]
  },
  {
   "cell_type": "markdown",
   "id": "b8d1b028-9faf-4c0f-bc6f-a9ef4518bace",
   "metadata": {},
   "source": [
    "## Additional Question"
   ]
  },
  {
   "cell_type": "markdown",
   "id": "9f889732-4f4a-4a17-9eaf-f901c42f26af",
   "metadata": {},
   "source": [
    "Scaling this solution to 10 additional load profiles would take a lot of planning and consideration.\n",
    "\n",
    "Conducting an exploratory data analysis of the different load profiles and understanding the data would be a good place to start. \n",
    "Confirming whether the features across the 10 load profiles are universal or if some load profiles have unique features. If new features are introduced, it is important they are included to capture each load profile's uniqueness. Likewise, If some load profiles contain data discrepancies or missing data, it is important they are dealt equally across all profiles to ensure integrity.\n",
    "\n",
    "Following data preparation, my next step would be to investigate the feasibility of using a single model for all load profiles or if there is a need for multiple models. When opting for a model/models, it is important to consider the computational efficiency when working with large data sets, one could even consider cloud-based solutions such as AWS or Azure for data storage and processing.\n",
    "Using techniques such as cross-validation across various number of folds is also a great way to monitor how a model performs on various sets of training and test data.\n",
    "Finally, an implementation of a system that regularly monitors performance to be able to tell when/where performance is being slowed down."
   ]
  },
  {
   "cell_type": "code",
   "execution_count": null,
   "id": "d5a06fee-ecdf-498a-b568-9d32acbeae1f",
   "metadata": {},
   "outputs": [],
   "source": []
  }
 ],
 "metadata": {
  "kernelspec": {
   "display_name": "Python 3 (ipykernel)",
   "language": "python",
   "name": "python3"
  },
  "language_info": {
   "codemirror_mode": {
    "name": "ipython",
    "version": 3
   },
   "file_extension": ".py",
   "mimetype": "text/x-python",
   "name": "python",
   "nbconvert_exporter": "python",
   "pygments_lexer": "ipython3",
   "version": "3.12.0"
  }
 },
 "nbformat": 4,
 "nbformat_minor": 5
}
